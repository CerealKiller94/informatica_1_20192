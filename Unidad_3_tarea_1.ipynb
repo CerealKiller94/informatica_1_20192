{
 "cells": [
  {
   "cell_type": "markdown",
   "metadata": {},
   "source": [
    "Pida el número de horas trabajadas a la semana e imprima el salario a pagar según:\n",
    "* Pago básico: 7.500 por hora.\n",
    "* Horas extras (más de 40 semanales): 12.000 por hora.\n",
    "* Impuestos: 10% para los primeros 250.000, 20 % para el resto."
   ]
  },
  {
   "cell_type": "code",
   "execution_count": null,
   "metadata": {},
   "outputs": [],
   "source": [
    "'''\n",
    "while True:\n",
    "    horas_trabajadas = int(input('Digite la cantidad de horas trabajadas: '))\n",
    "    if horas_trabajadas >= 0:\n",
    "        break\n",
    "    print('Número de horas no válido')\n",
    "\n",
    "impuestos = 0\n",
    "\n",
    "if horas_trabajadas <= 40:\n",
    "    salario_bruto = horas_trabajadas * 7500\n",
    "else:\n",
    "    salario_bruto = 40 * 7500\n",
    "    salario_bruto += ((horas_trabajadas - 40) * 12000)\n",
    "\n",
    "if salario_bruto <= 250000:\n",
    "    impuestos = salario_bruto * 0.1\n",
    "else:\n",
    "    impuestos = 250000 * 0.1\n",
    "    impuestos += ((salario_bruto - 250000) * 0.2)\n",
    "\n",
    "a_pagar = salario_bruto - impuestos\n",
    "print('El salario a pagar es: ${} COP'.format(a_pagar))\n",
    "'''"
   ]
  },
  {
   "cell_type": "markdown",
   "metadata": {},
   "source": [
    "Determine si un año dado es bisiesto o no. Tenga en cuenta que para que un año sea bisiesto este debe ser múltiplo de 4 y, además, no puede ser múltiplo de 100 a no ser que también sea múltiplo de 400. En caso de que el año no sea bisiesto, diga cuál sería el siguiente año bisiesto."
   ]
  },
  {
   "cell_type": "code",
   "execution_count": null,
   "metadata": {},
   "outputs": [],
   "source": [
    "'''\n",
    "anho = int(input('Digite el año: '))\n",
    "es_bisiesto = False\n",
    "proximo_bisiesto = 0\n",
    "\n",
    "if anho % 4 == 0:\n",
    "    if anho % 100 == 0:\n",
    "        if anho % 400 == 0:\n",
    "            es_bisiesto = True\n",
    "        else:\n",
    "            es_bisiesto = False\n",
    "            proximo_bisiesto += anho + 4\n",
    "    else:\n",
    "        es_bisiesto = True\n",
    "else:\n",
    "    proximo_bisiesto = anho + (4 - (anho % 4))\n",
    "    es_bisiesto = False\n",
    "\n",
    "if es_bisiesto:\n",
    "    print('El año {} es bisiesto'.format(anho))\n",
    "else:\n",
    "    if proximo_bisiesto % 100 == 0:\n",
    "        if proximo_bisiesto % 400 != 0:\n",
    "            proximo_bisiesto += 4\n",
    "    print('El año {} no es bisiesto pero el próximo bisiesto será en el año {}'\n",
    "          .format(anho, proximo_bisiesto))\n",
    "'''"
   ]
  },
  {
   "cell_type": "markdown",
   "metadata": {},
   "source": [
    "Lea un número entero y muestre en pantalla su factorial."
   ]
  },
  {
   "cell_type": "code",
   "execution_count": null,
   "metadata": {},
   "outputs": [],
   "source": [
    "'''\n",
    "factorial = 1\n",
    "\n",
    "while True:\n",
    "    num = int(input('Digite un número: '))\n",
    "    if num >= 0:\n",
    "        break\n",
    "    print('La función factorial no está definida para números negativos')\n",
    "\n",
    "c_num = num\n",
    "\n",
    "while num > 0:\n",
    "    factorial *= num\n",
    "    num -= 1\n",
    "\n",
    "print('El factorial de {0} es: {1}'.format(c_num, factorial))'''"
   ]
  }
 ],
 "metadata": {
  "kernelspec": {
   "display_name": "Python 3",
   "language": "python",
   "name": "python3"
  },
  "language_info": {
   "codemirror_mode": {
    "name": "ipython",
    "version": 3
   },
   "file_extension": ".py",
   "mimetype": "text/x-python",
   "name": "python",
   "nbconvert_exporter": "python",
   "pygments_lexer": "ipython3",
   "version": "3.7.6"
  }
 },
 "nbformat": 4,
 "nbformat_minor": 4
}
